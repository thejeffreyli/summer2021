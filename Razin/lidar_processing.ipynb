{
 "cells": [
  {
   "cell_type": "code",
   "execution_count": 4,
   "id": "c4a64a30",
   "metadata": {},
   "outputs": [
    {
     "name": "stderr",
     "output_type": "stream",
     "text": [
      "/Users/nivarazin/opt/anaconda3/envs/pyart_env/lib/python3.8/site-packages/ipykernel/ipkernel.py:283: DeprecationWarning: `should_run_async` will not call `transform_cell` automatically in the future. Please pass the result to `transformed_cell` argument and any exception that happen during thetransform in `preprocessing_exc_tuple` in IPython 7.17 and above.\n",
      "  and should_run_async(code)\n"
     ]
    }
   ],
   "source": [
    "# !pip install mpl2nc\n",
    "# !pip install act-atmos"
   ]
  },
  {
   "cell_type": "code",
   "execution_count": 2,
   "id": "90cb60ec",
   "metadata": {},
   "outputs": [
    {
     "name": "stdout",
     "output_type": "stream",
     "text": [
      "\n",
      "## You are using the Python ARM Radar Toolkit (Py-ART), an open source\n",
      "## library for working with weather radar data. Py-ART is partly\n",
      "## supported by the U.S. Department of Energy as part of the Atmospheric\n",
      "## Radiation Measurement (ARM) Climate Research Facility, an Office of\n",
      "## Science user facility.\n",
      "##\n",
      "## If you use this software to prepare a publication, please cite:\n",
      "##\n",
      "##     JJ Helmus and SM Collis, JORS 2016, doi: 10.5334/jors.119\n",
      "\n"
     ]
    }
   ],
   "source": [
    "import glob\n",
    "\n",
    "from matplotlib import pyplot as plt\n",
    "from matplotlib import animation\n",
    "import numpy as np\n",
    "import pyart # added imports\n",
    "from PIL import Image\n",
    "import numpy as np\n",
    "import pyart\n",
    "import imageio"
   ]
  },
  {
   "cell_type": "markdown",
   "id": "034d970c",
   "metadata": {},
   "source": [
    "## Converting .mpl to .nc"
   ]
  },
  {
   "cell_type": "code",
   "execution_count": null,
   "id": "5b1f37b9",
   "metadata": {},
   "outputs": [],
   "source": [
    "!mpl2nc OneDrive_2_7-15-2021 OneDrive_2_7-15-2021 # .nc files not used below"
   ]
  },
  {
   "cell_type": "markdown",
   "id": "65508913",
   "metadata": {},
   "source": [
    "## MPL Plots"
   ]
  },
  {
   "cell_type": "code",
   "execution_count": 30,
   "id": "94556460",
   "metadata": {},
   "outputs": [
    {
     "name": "stderr",
     "output_type": "stream",
     "text": [
      "/Users/nivarazin/opt/anaconda3/envs/pyart_env/lib/python3.8/site-packages/ipykernel/ipkernel.py:283: DeprecationWarning: `should_run_async` will not call `transform_cell` automatically in the future. Please pass the result to `transformed_cell` argument and any exception that happen during thetransform in `preprocessing_exc_tuple` in IPython 7.17 and above.\n",
      "  and should_run_async(code)\n",
      "/Users/nivarazin/opt/anaconda3/envs/pyart_env/lib/python3.8/site-packages/pyart/graph/radardisplay.py:104: UserWarning: RadarDisplay does not correct for moving platforms\n",
      "  warnings.warn('RadarDisplay does not correct for moving platforms')\n"
     ]
    },
    {
     "data": {
      "image/png": "[encoded data removed]",
      "text/plain": [
       "<Figure size 432x288 with 2 Axes>"
      ]
     },
     "metadata": {
      "needs_background": "light"
     },
     "output_type": "display_data"
    }
   ],
   "source": [
    "import act\n",
    "from matplotlib import pyplot as plt\n",
    "\n",
    "# Read in sample mini-MPL data\n",
    "# files = act.tests.sample_files.EXAMPLE_SIGMA_MPLV5 # act.io.read_sigma_mplv5(path)  \n",
    "# print(files)\n",
    "\n",
    "files ='/Users/nivarazin/Local/NAISE/OneDrive_2_7-15-2021/201308251800.mpl' \n",
    "obj = act.io.mpl.read_sigma_mplv5(files) #, save_nc=True, out_nc_path='/Users/nivarazin/Local/NAISE/OneDrive_2_7-15-2021/temp_nc_holder/')\n",
    "\n",
    "# Create a PyART Radar Object\n",
    "radar = act.utils.create_pyart_obj(obj, azimuth='azimuth_angle', elevation='elevation_angle',\n",
    "                                   range_var='range')\n",
    "\n",
    "# Create Plot Display\n",
    "display = pyart.graph.RadarDisplay(radar)\n",
    "#display.plot_rhi('reflectivity')\n",
    "display.plot('nrb_copol', sweep=0, title_flag=False, vmin=0, vmax=10., cmap='jet')\n",
    "plt.title('MPL Data')\n",
    "plt.show()"
   ]
  },
  {
   "cell_type": "code",
   "execution_count": 48,
   "id": "8023d2df",
   "metadata": {},
   "outputs": [
    {
     "name": "stderr",
     "output_type": "stream",
     "text": [
      "/Users/nivarazin/opt/anaconda3/envs/pyart_env/lib/python3.8/site-packages/ipykernel/ipkernel.py:283: DeprecationWarning: `should_run_async` will not call `transform_cell` automatically in the future. Please pass the result to `transformed_cell` argument and any exception that happen during thetransform in `preprocessing_exc_tuple` in IPython 7.17 and above.\n",
      "  and should_run_async(code)\n"
     ]
    },
    {
     "ename": "KeyError",
     "evalue": "'range'",
     "output_type": "error",
     "traceback": [
      "\u001b[0;31m---------------------------------------------------------------------------\u001b[0m",
      "\u001b[0;31mKeyError\u001b[0m                                  Traceback (most recent call last)",
      "\u001b[0;32m<ipython-input-48-5070e45e0d9e>\u001b[0m in \u001b[0;36m<module>\u001b[0;34m\u001b[0m\n\u001b[1;32m      7\u001b[0m \u001b[0;31m#                                     range_var='range')\u001b[0m\u001b[0;34m\u001b[0m\u001b[0;34m\u001b[0m\u001b[0;34m\u001b[0m\u001b[0m\n\u001b[1;32m      8\u001b[0m \u001b[0;34m\u001b[0m\u001b[0m\n\u001b[0;32m----> 9\u001b[0;31m \u001b[0mradar\u001b[0m \u001b[0;34m=\u001b[0m \u001b[0mpyart\u001b[0m\u001b[0;34m.\u001b[0m\u001b[0mio\u001b[0m\u001b[0;34m.\u001b[0m\u001b[0mread\u001b[0m\u001b[0;34m(\u001b[0m\u001b[0mfiles\u001b[0m\u001b[0;34m)\u001b[0m\u001b[0;34m\u001b[0m\u001b[0;34m\u001b[0m\u001b[0m\n\u001b[0m\u001b[1;32m     10\u001b[0m \u001b[0mdisplay\u001b[0m \u001b[0;34m=\u001b[0m \u001b[0mpyart\u001b[0m\u001b[0;34m.\u001b[0m\u001b[0mgraph\u001b[0m\u001b[0;34m.\u001b[0m\u001b[0mRadarDisplay\u001b[0m\u001b[0;34m(\u001b[0m\u001b[0mradar\u001b[0m\u001b[0;34m)\u001b[0m\u001b[0;34m\u001b[0m\u001b[0;34m\u001b[0m\u001b[0m\n\u001b[1;32m     11\u001b[0m \u001b[0;31m# display.plot_rhi('reflectivity')\u001b[0m\u001b[0;34m\u001b[0m\u001b[0;34m\u001b[0m\u001b[0;34m\u001b[0m\u001b[0m\n",
      "\u001b[0;32m~/opt/anaconda3/envs/pyart_env/lib/python3.8/site-packages/pyart/io/auto_read.py\u001b[0m in \u001b[0;36mread\u001b[0;34m(filename, use_rsl, **kwargs)\u001b[0m\n\u001b[1;32m    110\u001b[0m         \u001b[0;32melse\u001b[0m\u001b[0;34m:\u001b[0m\u001b[0;34m\u001b[0m\u001b[0;34m\u001b[0m\u001b[0m\n\u001b[1;32m    111\u001b[0m             \u001b[0mdset\u001b[0m\u001b[0;34m.\u001b[0m\u001b[0mclose\u001b[0m\u001b[0;34m(\u001b[0m\u001b[0;34m)\u001b[0m\u001b[0;34m\u001b[0m\u001b[0;34m\u001b[0m\u001b[0m\n\u001b[0;32m--> 112\u001b[0;31m             \u001b[0;32mreturn\u001b[0m \u001b[0mread_cfradial\u001b[0m\u001b[0;34m(\u001b[0m\u001b[0mfilename\u001b[0m\u001b[0;34m,\u001b[0m \u001b[0;34m**\u001b[0m\u001b[0mkwargs\u001b[0m\u001b[0;34m)\u001b[0m    \u001b[0;31m# CF/Radial\u001b[0m\u001b[0;34m\u001b[0m\u001b[0;34m\u001b[0m\u001b[0m\n\u001b[0m\u001b[1;32m    113\u001b[0m     \u001b[0;32mif\u001b[0m \u001b[0mfiletype\u001b[0m \u001b[0;34m==\u001b[0m \u001b[0;34m'WSR88D'\u001b[0m\u001b[0;34m:\u001b[0m\u001b[0;34m\u001b[0m\u001b[0;34m\u001b[0m\u001b[0m\n\u001b[1;32m    114\u001b[0m         \u001b[0;32mreturn\u001b[0m \u001b[0mread_nexrad_archive\u001b[0m\u001b[0;34m(\u001b[0m\u001b[0mfilename\u001b[0m\u001b[0;34m,\u001b[0m \u001b[0;34m**\u001b[0m\u001b[0mkwargs\u001b[0m\u001b[0;34m)\u001b[0m\u001b[0;34m\u001b[0m\u001b[0;34m\u001b[0m\u001b[0m\n",
      "\u001b[0;32m~/opt/anaconda3/envs/pyart_env/lib/python3.8/site-packages/pyart/io/cfradial.py\u001b[0m in \u001b[0;36mread_cfradial\u001b[0;34m(filename, field_names, additional_metadata, file_field_names, exclude_fields, include_fields, delay_field_loading, **kwargs)\u001b[0m\n\u001b[1;32m    134\u001b[0m     \u001b[0;31m# 4.4 coordinate variables -> create attribute dictionaries\u001b[0m\u001b[0;34m\u001b[0m\u001b[0;34m\u001b[0m\u001b[0;34m\u001b[0m\u001b[0m\n\u001b[1;32m    135\u001b[0m     \u001b[0mtime\u001b[0m \u001b[0;34m=\u001b[0m \u001b[0m_ncvar_to_dict\u001b[0m\u001b[0;34m(\u001b[0m\u001b[0mncvars\u001b[0m\u001b[0;34m[\u001b[0m\u001b[0;34m'time'\u001b[0m\u001b[0;34m]\u001b[0m\u001b[0;34m)\u001b[0m\u001b[0;34m\u001b[0m\u001b[0;34m\u001b[0m\u001b[0m\n\u001b[0;32m--> 136\u001b[0;31m     \u001b[0m_range\u001b[0m \u001b[0;34m=\u001b[0m \u001b[0m_ncvar_to_dict\u001b[0m\u001b[0;34m(\u001b[0m\u001b[0mncvars\u001b[0m\u001b[0;34m[\u001b[0m\u001b[0;34m'range'\u001b[0m\u001b[0;34m]\u001b[0m\u001b[0;34m)\u001b[0m\u001b[0;34m\u001b[0m\u001b[0;34m\u001b[0m\u001b[0m\n\u001b[0m\u001b[1;32m    137\u001b[0m \u001b[0;34m\u001b[0m\u001b[0m\n\u001b[1;32m    138\u001b[0m     \u001b[0;31m# 4.5 Ray dimension variables\u001b[0m\u001b[0;34m\u001b[0m\u001b[0;34m\u001b[0m\u001b[0;34m\u001b[0m\u001b[0m\n",
      "\u001b[0;31mKeyError\u001b[0m: 'range'"
     ]
    }
   ],
   "source": [
    "files ='/Users/nivarazin/Local/NAISE/OneDrive_2_7-15-2021/201308251800.nc' \n",
    "# obj = act.io.mpl.read_sigma_mplv5(files) #, save_nc=True, out_nc_path='/Users/nivarazin/Local/NAISE/OneDrive_2_7-15-2021/temp_nc_holder/')\n",
    "\n",
    "\n",
    "# # Create a PyART Radar Object\n",
    "# radar = act.utils.create_pyart_obj(obj, azimuth='azimuth_angle', elevation='elevation_angle',\n",
    "#                                     range_var='range')\n",
    "\n",
    "radar = pyart.io.read(files)\n",
    "display = pyart.graph.RadarDisplay(radar)\n",
    "# display.plot_rhi('reflectivity')\n",
    "\n",
    "\n",
    "# # Create Plot Display\n",
    "display.plot('nrb_copol', sweep=0, title_flag=False, vmin=0, vmax=10., cmap='jet')\n",
    "# plt.title('MPL Data')\n",
    "# plt.show()"
   ]
  },
  {
   "cell_type": "code",
   "execution_count": null,
   "id": "dcbc2f02",
   "metadata": {},
   "outputs": [],
   "source": []
  }
 ],
 "metadata": {
  "kernelspec": {
   "display_name": "Python 3",
   "language": "python",
   "name": "python3"
  },
  "language_info": {
   "codemirror_mode": {
    "name": "ipython",
    "version": 3
   },
   "file_extension": ".py",
   "mimetype": "text/x-python",
   "name": "python",
   "nbconvert_exporter": "python",
   "pygments_lexer": "ipython3",
   "version": "3.8.10"
  }
 },
 "nbformat": 4,
 "nbformat_minor": 5
}
