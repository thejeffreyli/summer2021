{
 "cells": [
  {
   "cell_type": "markdown",
   "id": "overhead-breakfast",
   "metadata": {},
   "source": [
    "###  Dense optical flow, specifically the Farneback algorithm from OpenCV, is used on videos of GOES-16 satellite images to estimate cloud speed and direction over the Atmospheric Radiation Measurement (ARM) Southern Great Plains (SGP) Central Facility. \n",
    "Optical Flow in OpenCV: https://learnopencv.com/optical-flow-in-opencv/"
   ]
  },
  {
   "cell_type": "code",
   "execution_count": 1,
   "id": "continuous-theme",
   "metadata": {},
   "outputs": [],
   "source": [
    "import cv2\n",
    "import numpy as np"
   ]
  },
  {
   "cell_type": "code",
   "execution_count": 2,
   "id": "parliamentary-tractor",
   "metadata": {},
   "outputs": [],
   "source": [
    "def dense_optical_flow(method, video_path, params=[], to_gray=True):\n",
    "    \n",
    "    # Read the video\n",
    "    cap = cv2.VideoCapture(video_path)\n",
    "    \n",
    "    # Read the first frame of the video\n",
    "    ret, old_frame = cap.read()\n",
    "\n",
    "    # Create HSV & make value a constant\n",
    "    hsv = np.zeros_like(old_frame)\n",
    "    hsv[..., 1] = 255\n",
    "\n",
    "    # Convert the BGR image to gray-scale\n",
    "    if to_gray:\n",
    "        old_frame = cv2.cvtColor(old_frame, cv2.COLOR_BGR2GRAY)\n",
    "    \n",
    "    i=0\n",
    "\n",
    "    while True:\n",
    "        \n",
    "        # Read the next frame\n",
    "        ret, new_frame = cap.read()\n",
    "        frame_copy = new_frame\n",
    "        if not ret:\n",
    "            break\n",
    "            \n",
    "        # Convert the BGR image to gray-scale\n",
    "        if to_gray:\n",
    "            new_frame = cv2.cvtColor(new_frame, cv2.COLOR_BGR2GRAY)\n",
    "            \n",
    "        # Calculate Optical Flow\n",
    "        flow = method(old_frame, new_frame, None, *params)\n",
    "\n",
    "        # Encoding: convert the algorithm's output into Polar coordinates\n",
    "        mag, ang = cv2.cartToPolar(flow[..., 0], flow[..., 1])\n",
    "        \n",
    "        # Use Hue and Saturation to encode the Optical Flow\n",
    "        hsv[..., 0] = ang * 180 / np.pi / 2\n",
    "        hsv[..., 2] = cv2.normalize(mag, None, 0, 255, cv2.NORM_MINMAX)\n",
    "        \n",
    "        # Convert HSV image into BGR\n",
    "        bgr = cv2.cvtColor(hsv, cv2.COLOR_HSV2BGR)\n",
    "        \n",
    "        # Show video frames and optical flow\n",
    "        cv2.imshow(\"frame\", frame_copy)\n",
    "        cv2.imshow(\"optical flow\", bgr)\n",
    "       \n",
    "        k = cv2.waitKey(25) & 0xFF\n",
    "        if k == 27:\n",
    "            break\n",
    "        \n",
    "        # Save optical flow hsv images and video frames\n",
    "        name = f'./opticalhsv_160_vis{i}.png'\n",
    "        name2 = f'./frame_160_vis{i}.png'\n",
    "        cv2.imwrite(name, bgr)\n",
    "        cv2.imwrite(name2, frame_copy)\n",
    "        \n",
    "        # Select the magnitude (speed) and angle at a single pixel\n",
    "        magn = mag[540, 960]\n",
    "        angl = ang[540, 960]\n",
    "        \n",
    "        # Select the magnitude (speed) and angle for an array of pixels\n",
    "        #magn = mag[535:545,955:965]\n",
    "        #angl = ang[535:545,955:965]\n",
    "        \n",
    "        # Convert pixel units to m/s and radians to degrees\n",
    "        m_s = (magn / 300) * 500\n",
    "        angles = (angl * 180) / np.pi\n",
    "        \n",
    "        # Append speed in m/s and direction in degrees\n",
    "        speed_m_s.append(m_s)\n",
    "        angl_deg.append(angles)\n",
    "        print(m_s, angles)\n",
    "        \n",
    "        old_frame = new_frame \n",
    "        i+=1\n",
    "    \n",
    "   # Averages motions per pixel over the length of the video \n",
    "    speed = (sum(speed_m_s)) / i\n",
    "    direction = (sum(angl_deg)) / i\n",
    "    print('Average Speed:', speed)\n",
    "    print('Average Direction:', direction)\n",
    "    \n",
    "    # Averaging the motion at all the selected pixels\n",
    "    #print(np.mean(speed)) \n",
    "    #print(np.mean(direction))"
   ]
  },
  {
   "cell_type": "code",
   "execution_count": 3,
   "id": "isolated-client",
   "metadata": {},
   "outputs": [
    {
     "name": "stdout",
     "output_type": "stream",
     "text": [
      "1.3614191611607869 68.97659144671971\n",
      "1.782670219739278 147.07088437875947\n",
      "5.812459786732991 72.45749490437916\n",
      "28.546953201293945 95.16434268687065\n",
      "23.80471070607503 95.70260257460268\n",
      "12.602213223775228 116.01768886448497\n",
      "7.411916255950928 84.56003686831899\n",
      "1.5845641493797302 190.3183034862029\n",
      "0.8920150995254517 72.28385783529909\n",
      "2.7705983320871987 175.303785501709\n",
      "2.2095433870951333 50.128120941462996\n",
      "7.325488726298015 121.51370986316245\n",
      "1.1974190672238667 143.96467826877776\n",
      "1.3837626576423645 20.430572835916152\n",
      "0.582699328660965 271.5302089441383\n",
      "0.416504442691803 99.58048345701245\n",
      "0.1531852533419927 277.01269250788084\n",
      "3.1057055791219073 95.6158864929002\n",
      "11.216883659362793 100.93781279982322\n",
      "1.669541597366333 144.63894088326307\n",
      "0.6673141320546468 351.4800866887521\n",
      "0.48353443543116253 81.39439445217981\n",
      "4.546242554982503 82.24480081517059\n",
      "17.885637283325195 107.10928486590161\n",
      "Average Speed: 5.808874260013302\n",
      "Average Direction: 127.726552598487\n"
     ]
    }
   ],
   "source": [
    "speed_m_s = []\n",
    "angl_deg = [] \n",
    "method = cv2.calcOpticalFlowFarneback\n",
    "params = [0.5, 3, 15, 3, 5, 1.2, 0]  # default Farneback algorithm parameters\n",
    "videopath = 'C:/Users/Margo/GOES16/GOES16_vis_17_19Z_160.mp4'\n",
    "\n",
    "frames = dense_optical_flow(method, videopath, params, to_gray=True)"
   ]
  },
  {
   "cell_type": "code",
   "execution_count": 4,
   "id": "dated-thailand",
   "metadata": {},
   "outputs": [],
   "source": [
    "cv2.destroyAllWindows()"
   ]
  }
 ],
 "metadata": {
  "kernelspec": {
   "display_name": "Python 3",
   "language": "python",
   "name": "python3"
  },
  "language_info": {
   "codemirror_mode": {
    "name": "ipython",
    "version": 3
   },
   "file_extension": ".py",
   "mimetype": "text/x-python",
   "name": "python",
   "nbconvert_exporter": "python",
   "pygments_lexer": "ipython3",
   "version": "3.8.5"
  }
 },
 "nbformat": 4,
 "nbformat_minor": 5
}
