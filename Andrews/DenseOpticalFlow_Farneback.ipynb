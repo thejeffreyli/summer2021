{
 "cells": [
  {
   "cell_type": "markdown",
   "id": "overhead-breakfast",
   "metadata": {},
   "source": [
    "####  Dense optical flow, specifically the Farneback algorithm from OpenCV, is used on videos of GOES-16 satellite images to estimate cloud motion (speed) over the Atmospheric Radiation Measurement (ARM) Southern Great Plains (SGP) Central Facility. \n",
    "Optical Flow in OpenCV: https://learnopencv.com/optical-flow-in-opencv/"
   ]
  },
  {
   "cell_type": "code",
   "execution_count": 1,
   "id": "continuous-theme",
   "metadata": {},
   "outputs": [],
   "source": [
    "import cv2\n",
    "import numpy as np"
   ]
  },
  {
   "cell_type": "code",
   "execution_count": 2,
   "id": "parliamentary-tractor",
   "metadata": {},
   "outputs": [],
   "source": [
    "def dense_optical_flow(method, video_path, params=[], to_gray=True):\n",
    "    \n",
    "    # Read the video\n",
    "    cap = cv2.VideoCapture(video_path)\n",
    "    \n",
    "    # Read the first frame\n",
    "    ret, old_frame = cap.read()\n",
    "\n",
    "    # Create HSV & make value a constant\n",
    "    hsv = np.zeros_like(old_frame)\n",
    "    hsv[..., 1] = 255\n",
    "\n",
    "    # Preprocessing for exact method\n",
    "    if to_gray:\n",
    "        old_frame = cv2.cvtColor(old_frame, cv2.COLOR_BGR2GRAY)\n",
    "    \n",
    "    i=0\n",
    "    \n",
    "    while True:\n",
    "        # Read the next frame\n",
    "        ret, new_frame = cap.read()\n",
    "        frame_copy = new_frame\n",
    "        if not ret:\n",
    "            break\n",
    "            \n",
    "        # Preprocessing for exact method\n",
    "        if to_gray:\n",
    "            new_frame = cv2.cvtColor(new_frame, cv2.COLOR_BGR2GRAY)\n",
    "            \n",
    "        # Calculate Optical Flow\n",
    "        flow = method(old_frame, new_frame, None, *params)\n",
    "\n",
    "        # Encoding: convert the algorithm's output into Polar coordinates\n",
    "        mag, ang = cv2.cartToPolar(flow[..., 0], flow[..., 1])\n",
    "        \n",
    "        # Use Hue and Saturation to encode the Optical Flow\n",
    "        hsv[..., 0] = ang * 180 / np.pi / 2\n",
    "        hsv[..., 2] = cv2.normalize(mag, None, 0, 255, cv2.NORM_MINMAX)\n",
    "        \n",
    "        # Convert HSV image into BGR for demo\n",
    "        bgr = cv2.cvtColor(hsv, cv2.COLOR_HSV2BGR)\n",
    "        \n",
    "        # Show video frames and optical flow\n",
    "        cv2.imshow(\"frame\", frame_copy)\n",
    "        cv2.imshow(\"optical flow\", bgr)\n",
    "       \n",
    "        k = cv2.waitKey(25) & 0xFF\n",
    "        if k == 27:\n",
    "            break\n",
    "        \n",
    "        # Save optical flow hsv images\n",
    "        name = f'./opticalhsv_vis{i}.png'\n",
    "        cv2.imwrite(name,bgr)\n",
    "        \n",
    "        # Select the magnitude (speed) at a single point\n",
    "        #magn = mag[540, 960]\n",
    "        \n",
    "        # Select the magnitude (speed) for an array of pixels\n",
    "        magn = mag[535:545,955:965]\n",
    "        \n",
    "        # Convert pixel units to m/s\n",
    "        m_s = (magn / 300) * 500\n",
    "        \n",
    "        # Append speed in m/s\n",
    "        speed_m_s.append(m_s)\n",
    "        \n",
    "        old_frame = new_frame \n",
    "        i+=1\n",
    "    \n",
    "   # Motions are averaged per pixel over the length of the video \n",
    "    speed = (sum(speed_m_s)) / i\n",
    "    print(speed)\n",
    "\n",
    "    # Averaging the motion at all the selected pixels\n",
    "    print(np.mean(speed)) "
   ]
  },
  {
   "cell_type": "code",
   "execution_count": 3,
   "id": "isolated-client",
   "metadata": {},
   "outputs": [
    {
     "name": "stdout",
     "output_type": "stream",
     "text": [
      "[[8.299636  7.9852433 7.692396  7.403664  7.0517364 6.5956993 6.075887\n",
      "  5.5671105 5.058112  4.586263 ]\n",
      " [8.066425  7.775867  7.4887996 7.2051563 6.855211  6.42635   5.944124\n",
      "  5.4724655 4.982873  4.523262 ]\n",
      " [7.8809834 7.6027737 7.314631  7.015764  6.678978  6.291532  5.853943\n",
      "  5.4250145 4.9673543 4.5253143]\n",
      " [7.6611333 7.3944874 7.109695  6.822663  6.525585  6.180597  5.7773223\n",
      "  5.3843026 4.9710283 4.552159 ]\n",
      " [7.411463  7.1591773 6.878802  6.6069865 6.3475285 6.0225396 5.6369514\n",
      "  5.2644067 4.8746657 4.469699 ]\n",
      " [7.143177  6.9094315 6.64014   6.3779063 6.123677  5.808874  5.4354053\n",
      "  5.0773463 4.704499  4.305757 ]\n",
      " [6.8283687 6.6200423 6.3760147 6.115932  5.8506484 5.554262  5.2143636\n",
      "  4.890534  4.541521  4.1469107]\n",
      " [6.5504527 6.3647676 6.1379013 5.8732038 5.585811  5.2955685 4.990702\n",
      "  4.7103095 4.3898697 4.0019126]\n",
      " [6.274065  6.102982  5.8860016 5.622715  5.3188014 5.015899  4.7297864\n",
      "  4.4755034 4.178092  3.8002112]\n",
      " [5.7808075 5.6411953 5.45977   5.240048  4.973536  4.677137  4.399684\n",
      "  4.152281  3.855519  3.490203 ]]\n",
      "5.853033\n"
     ]
    }
   ],
   "source": [
    "speed_m_s = []\n",
    "method = cv2.calcOpticalFlowFarneback\n",
    "params = [0.5, 3, 15, 3, 5, 1.2, 0]  # default Farneback algorithm parameters\n",
    "videopath = 'C:/Users/Margo/GOES16/GOES16_vis_17_19Z_160.mp4'\n",
    "\n",
    "frames = dense_optical_flow(method, videopath, params, to_gray=True)"
   ]
  },
  {
   "cell_type": "code",
   "execution_count": 4,
   "id": "dated-thailand",
   "metadata": {},
   "outputs": [],
   "source": [
    "cv2.destroyAllWindows()"
   ]
  },
  {
   "cell_type": "code",
   "execution_count": null,
   "id": "cardiac-publisher",
   "metadata": {},
   "outputs": [],
   "source": []
  }
 ],
 "metadata": {
  "kernelspec": {
   "display_name": "Python 3",
   "language": "python",
   "name": "python3"
  },
  "language_info": {
   "codemirror_mode": {
    "name": "ipython",
    "version": 3
   },
   "file_extension": ".py",
   "mimetype": "text/x-python",
   "name": "python",
   "nbconvert_exporter": "python",
   "pygments_lexer": "ipython3",
   "version": "3.8.5"
  }
 },
 "nbformat": 4,
 "nbformat_minor": 5
}
