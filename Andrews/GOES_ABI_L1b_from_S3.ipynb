{
 "cells": [
  {
   "cell_type": "code",
   "execution_count": 1,
   "metadata": {},
   "outputs": [],
   "source": [
    "import numpy as np\n",
    "import s3fs\n",
    "import datetime\n",
    "import os"
   ]
  },
  {
   "cell_type": "code",
   "execution_count": 2,
   "metadata": {},
   "outputs": [],
   "source": [
    "def main():\n",
    "\n",
    "    # Select satellite, ABI L1b product, view (only CONUS right now), band, date, and start/end times\n",
    "    satellite = 16\n",
    "    product_name = 'ABI-L1b-RadC'\n",
    "    view = 'CONUS'\n",
    "    year = 2019\n",
    "    month = 12\n",
    "    day = 11\n",
    "    start_hour = '15'\n",
    "    start_min = '00'\n",
    "    end_hour = '15'\n",
    "    end_min = '15'\n",
    "    band = '01'\n",
    "    \n",
    "    # Query AWS and list filenames\n",
    "    data = aws_list(year, month, day, start_hour, start_min, end_hour, end_min, satellite, view, band, product_name)\n",
    "    print('Available data files:\\n', data)\n",
    "    \n",
    "    # Select directory to save files; os.getcwd() + '/' saves files to current working directory\n",
    "    save_path = os.getcwd() + '/' \n",
    "    print('\\nData files will be saved to: ' + save_path)\n",
    "\n",
    "    # Download files locally\n",
    "    if len(data) > 0:\n",
    "        for i in data:\n",
    "            filename = i.split('/')[-1]\n",
    "            print(filename) \n",
    "            aws = s3fs.S3FileSystem(anon=True)\n",
    "            for x in data:\n",
    "                aws.get(x, save_path + x.split('/')[-1])\n",
    "        print('Download complete!')"
   ]
  },
  {
   "cell_type": "code",
   "execution_count": 3,
   "metadata": {},
   "outputs": [],
   "source": [
    "# Find Julian day from given year/month/day\n",
    "def julian(year_name, month_name, day_name):\n",
    "    \n",
    "    calendar = datetime.datetime(year_name, month_name, day_name)\n",
    "    julian_day = calendar.strftime('%j')\n",
    "    \n",
    "    return julian_day"
   ]
  },
  {
   "cell_type": "code",
   "execution_count": 4,
   "metadata": {},
   "outputs": [],
   "source": [
    "# Create list of ABI data file names for given satellite, product, and datetime period\n",
    "def aws_list(year_name, month_name, day_name, starthour, startmin, endhour, endmin, satellite_name, view_name, sat_band, product):\n",
    "    \n",
    "    # Access AWS using anonymous credentials\n",
    "    aws = s3fs.S3FileSystem(anon=True)\n",
    "    \n",
    "    # Get Julian day\n",
    "    julian_day = julian(year_name, month_name, day_name)\n",
    "    \n",
    "    # Make a list of all data files for the period given by the date and start/end hours\n",
    "    hour_range = range(int(starthour), int(endhour) + 1)\n",
    "    all_hours_list = []\n",
    "    for i in hour_range:\n",
    "        hour_files = aws.ls('noaa-goes' + str(satellite_name) + '/' + product + '/' + str(year_name) + '/' + julian_day + '/' + str(i) + '/', refresh=True)\n",
    "        all_hours_list.extend(hour_files)\n",
    "    \n",
    "    # Extract and return a list of data files for the desired period and band\n",
    "    data = []\n",
    "    for i in all_hours_list:\n",
    "        if view_name == 'CONUS': \n",
    "\n",
    "            # Select the files that are between the desired start and end time\n",
    "            if i[-42:-38] >= (starthour + startmin) and i[-26:-22] <= (endhour + endmin):  \n",
    "\n",
    "                # Account for the change in default scan mode of the ABI\n",
    "                if i[-60:-57] == 'M3C' or i[-60:-57] == 'M6C':\n",
    "                    \n",
    "                    # Get desired band/channel\n",
    "                    if i[-57:-55]  == sat_band:\n",
    "                        data.append(i)\n",
    "        else:\n",
    "            continue\n",
    "\n",
    "    return data"
   ]
  },
  {
   "cell_type": "code",
   "execution_count": 5,
   "metadata": {},
   "outputs": [
    {
     "name": "stdout",
     "output_type": "stream",
     "text": [
      "Available data files:\n",
      " ['noaa-goes16/ABI-L1b-RadC/2019/345/15/OR_ABI-L1b-RadC-M6C01_G16_s20193451501156_e20193451503529_c20193451504017.nc', 'noaa-goes16/ABI-L1b-RadC/2019/345/15/OR_ABI-L1b-RadC-M6C01_G16_s20193451506156_e20193451508529_c20193451509021.nc', 'noaa-goes16/ABI-L1b-RadC/2019/345/15/OR_ABI-L1b-RadC-M6C01_G16_s20193451511156_e20193451513529_c20193451514017.nc']\n",
      "\n",
      "Data files will be saved to: C:\\Users\\margo/\n",
      "OR_ABI-L1b-RadC-M6C01_G16_s20193451501156_e20193451503529_c20193451504017.nc\n",
      "OR_ABI-L1b-RadC-M6C01_G16_s20193451506156_e20193451508529_c20193451509021.nc\n",
      "OR_ABI-L1b-RadC-M6C01_G16_s20193451511156_e20193451513529_c20193451514017.nc\n",
      "Download complete!\n"
     ]
    }
   ],
   "source": [
    "if __name__ == \"__main__\":\n",
    "    main()"
   ]
  }
 ],
 "metadata": {
  "kernelspec": {
   "display_name": "Python 3",
   "language": "python",
   "name": "python3"
  },
  "language_info": {
   "codemirror_mode": {
    "name": "ipython",
    "version": 3
   },
   "file_extension": ".py",
   "mimetype": "text/x-python",
   "name": "python",
   "nbconvert_exporter": "python",
   "pygments_lexer": "ipython3",
   "version": "3.8.5"
  },
  "varInspector": {
   "cols": {
    "lenName": 16,
    "lenType": 16,
    "lenVar": 40
   },
   "kernels_config": {
    "python": {
     "delete_cmd_postfix": "",
     "delete_cmd_prefix": "del ",
     "library": "var_list.py",
     "varRefreshCmd": "print(var_dic_list())"
    },
    "r": {
     "delete_cmd_postfix": ") ",
     "delete_cmd_prefix": "rm(",
     "library": "var_list.r",
     "varRefreshCmd": "cat(var_dic_list()) "
    }
   },
   "types_to_exclude": [
    "module",
    "function",
    "builtin_function_or_method",
    "instance",
    "_Feature"
   ],
   "window_display": false
  }
 },
 "nbformat": 4,
 "nbformat_minor": 2
}
