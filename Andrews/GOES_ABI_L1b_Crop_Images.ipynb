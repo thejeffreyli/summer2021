{
 "cells": [
  {
   "cell_type": "markdown",
   "metadata": {},
   "source": [
    "#### Downloads GOES-16 ABI L1b images from the 'noaa-goes-16' Amazon S3 bucket for the selected date, product,  band, and start/end times. Using the latitude and longitude of the Atmospheric Radiation Measurement (ARM) Southern Great Plains (SGP) Central Facility, the satellite images are cropped and saved as a new image of n x n pixels surrounding the site."
   ]
  },
  {
   "cell_type": "code",
   "execution_count": 1,
   "metadata": {},
   "outputs": [],
   "source": [
    "import numpy as np\n",
    "import s3fs\n",
    "import datetime\n",
    "import os\n",
    "import netCDF4\n",
    "import xarray as xr\n",
    "import cartopy, cartopy.crs as ccrs\n",
    "import matplotlib.pyplot as plt"
   ]
  },
  {
   "cell_type": "code",
   "execution_count": 2,
   "metadata": {},
   "outputs": [],
   "source": [
    "# Find Julian day from given year/month/day\n",
    "\n",
    "def julian(year_name, month_name, day_name):\n",
    "    \n",
    "    calendar = datetime.datetime(year_name, month_name, day_name)\n",
    "    julian_day = calendar.strftime('%j')\n",
    "    \n",
    "    return julian_day"
   ]
  },
  {
   "cell_type": "code",
   "execution_count": 3,
   "metadata": {},
   "outputs": [],
   "source": [
    "# Create list of ABI data file names for given satellite/product and date/time period\n",
    "\n",
    "def aws_list(year_name, month_name, day_name, starthour, startmin, endhour, endmin, satellite_name, view_name, sat_band, product):\n",
    "    \n",
    "    # Access AWS using anonymous credentials\n",
    "    aws = s3fs.S3FileSystem(anon=True)\n",
    "    \n",
    "    # Make a list of all data files for the selected date and start/end times\n",
    "    julian_day = julian(year_name, month_name, day_name)\n",
    "    hour_range = range(int(starthour), int(endhour) + 1)\n",
    "    all_hours_list = []\n",
    "    for i in hour_range:\n",
    "        hour_files = aws.ls('noaa-goes' + str(satellite_name) + '/' + product + '/' + str(year_name) + '/' + julian_day + '/' + str(i) + '/', refresh=True)\n",
    "        all_hours_list.extend(hour_files)\n",
    "    \n",
    "    # Extract and return a list of data files for the desired period and band\n",
    "    data = []\n",
    "    \n",
    "    # List file names\n",
    "    for i in all_hours_list:\n",
    "        if view_name == 'CONUS': \n",
    "\n",
    "            # Select only the files that are between the desired start and end time\n",
    "            if i[-42:-38] >= (starthour + startmin) and i[-26:-22] <= (endhour + endmin):  \n",
    "\n",
    "                # Account for the change in default scan mode of the ABI\n",
    "                if i[-60:-57] == 'M3C' or i[-60:-57] == 'M6C':\n",
    "                    \n",
    "                    # Get desired band/channel\n",
    "                    if i[-57:-55]  == sat_band:\n",
    "                        data.append(i)\n",
    "        else:\n",
    "            continue\n",
    "\n",
    "    return data"
   ]
  },
  {
   "cell_type": "code",
   "execution_count": 4,
   "metadata": {},
   "outputs": [],
   "source": [
    "def proj(ds):\n",
    "    \n",
    "    # Transform the image coordinates to latitiude and longitude \n",
    "    # This is needed to extract arrays of pixels around the SGP site\n",
    "    \n",
    "    # Get the information needed for the projection\n",
    "    p = ds['goes_imager_projection']\n",
    "\n",
    "    # Projection x, y coordinates--> scanning angle (radians) * sat height\n",
    "    x = ds['x'][:] * p.perspective_point_height\n",
    "    y = ds['y'][:] * p.perspective_point_height\n",
    "    \n",
    "    # Create geostationary projection map object\n",
    "    globe = ccrs.Globe(semimajor_axis=p.semi_major_axis,\n",
    "                            semiminor_axis=p.semi_minor_axis,\n",
    "                            inverse_flattening=p.inverse_flattening)\n",
    "    geos = ccrs.Geostationary(central_longitude=p.longitude_of_projection_origin, \n",
    "                            satellite_height=p.perspective_point_height,\n",
    "                            sweep_axis=p.sweep_angle_axis,\n",
    "                            globe=globe)\n",
    "    \n",
    "    # Transform current image projection coordinates (x,y) to lat, lon values\n",
    "    X, Y = np.meshgrid(x,y)\n",
    "    a = ccrs.PlateCarree().transform_points(geos, X, Y)\n",
    "    lons, lats = a[:,:,0], a[:,:,1]\n",
    "\n",
    "    # Create an xarray dataset with the lats, lons\n",
    "    latlon = xr.Dataset(dict(latitude=(('y', 'x'), lats), \n",
    "                         longitude=(('y', 'x'), lons)))\n",
    "    latlon.latitude.attrs = dict(standard_name='latitude', long_name='latitude', units='degrees_north')\n",
    "    latlon.longitude.attrs = dict(standard_name='longitude', long_name='longitude', units='degrees_east')\n",
    "    latlon.coords['latitude'] = latlon.latitude\n",
    "    latlon.coords['longitude'] = latlon.longitude\n",
    "    \n",
    "    # Merge the two datasets\n",
    "    ds2 = xr.merge([ds, latlon])\n",
    "\n",
    "    return ds2"
   ]
  },
  {
   "cell_type": "code",
   "execution_count": 5,
   "metadata": {},
   "outputs": [],
   "source": [
    "def locate_index(ds_latlon):\n",
    "    \n",
    "    # Locate the index of the satellite pixel closest to the ARM SGP central facility\n",
    "    # Based on: https://github.com/blaylockbk/pyBKB_v3/blob/master/demo/Nearest_lat-lon_Grid.ipynb\n",
    "    \n",
    "    # Latitude and longitude of the ARM SGP central facility\n",
    "    sgp_lon = -97.487643\n",
    "    sgp_lat = 36.607322\n",
    "    \n",
    "    # Calc the absolute value of the difference between the SGP lat/lon and every grid point\n",
    "    abslat = np.abs(ds_latlon.latitude.values-sgp_lat)\n",
    "    abslon= np.abs(ds_latlon.longitude.values-sgp_lon)\n",
    "    \n",
    "    # Combine abslon & abslat to find the local max difference\n",
    "    c = np.maximum(abslon, abslat)\n",
    "    \n",
    "    # Find the pixel where the absolute difference is minimum; this is pixel closest to SGP site\n",
    "    r = np.argwhere(c==c.min())\n",
    "    \n",
    "    # Get the index (x,y) of the closest pixel\n",
    "    y, x = np.where(c == np.min(c)) \n",
    "\n",
    "    # Grab the radiance, latitude, and longitude at that pixel\n",
    "    grid_data = ds_latlon.Rad[y[0], x[0]] \n",
    "    grid_lat = ds_latlon.latitude[y[0], x[0]] \n",
    "    grid_lon = ds_latlon.longitude[y[0], x[0]] \n",
    "\n",
    "    #print(\"Value of %s at %s , %s\" % (grid_data.values, grid_lat.values, grid_lon.values)) \n",
    "    #print(\"%s %s is the nearest grid to %s %s\" % (grid_lat.values, grid_lon.values, sgp_lat, sgp_lon))\n",
    "    \n",
    "    return y, x"
   ]
  },
  {
   "cell_type": "code",
   "execution_count": 6,
   "metadata": {},
   "outputs": [],
   "source": [
    "def extract_array(ds, y, x, band):\n",
    "    \n",
    "    # Extract an n x n array of pixels around SGP site\n",
    "    n = 80\n",
    "    xs = np.arange(x - n, x + n, 1)\n",
    "    ys = np.arange(y - n, y + n, 1)\n",
    "    \n",
    "    # Create an xarray dataframe for the extracted array (essentially cropping the image)\n",
    "    ds2 = ds.isel(y = ys, x = xs)\n",
    "    \n",
    "    #'t' variable is the scan's midpoint time\n",
    "    midpoint = str(ds2['t'].data)[:-8]\n",
    "    scan_mid = datetime.datetime.strptime(midpoint, '%Y-%m-%dT%H:%M:%S.%f')\n",
    "    scan_mid2 = datetime.datetime.strftime(scan_mid, '%Y-%m-%dT%H%M%S.%f')\n",
    "    \n",
    "    # Plot and save the cropped GOES-16 image\n",
    "    plot = plt.imshow(ds2.Rad, cmap='gray')\n",
    "    plt.axis('off')\n",
    "    name = f'./GOES16{scan_mid2}_B{band}_{n*2}.png'\n",
    "    plt.savefig(name, dpi=None, facecolor=None)\n",
    "    \n",
    "    return plot"
   ]
  },
  {
   "cell_type": "code",
   "execution_count": 7,
   "metadata": {},
   "outputs": [],
   "source": [
    "def main():\n",
    "\n",
    "    # Select satellite (GOES-16), ABI L1b product, view (only CONUS), band, date, and start/end times\n",
    "    satellite = 16\n",
    "    product_name = 'ABI-L1b-RadC'\n",
    "    view = 'CONUS'\n",
    "    year = 2019\n",
    "    month = 11\n",
    "    day = 21\n",
    "    start_hour = '17'\n",
    "    start_min = '30'\n",
    "    end_hour = '17'\n",
    "    end_min = '45'\n",
    "    band = '01'\n",
    "    \n",
    "    # Query AWS and list filenames\n",
    "    data = aws_list(year, month, day, start_hour, start_min, end_hour, end_min, satellite, view, band, product_name)\n",
    "    \n",
    "    # Select directory to save files; os.getcwd() + '/' saves files to current working directory\n",
    "    save_path = os.getcwd() + '/' \n",
    "    print('\\nData files will be saved to: ' + save_path)\n",
    "\n",
    "    # Download files locally\n",
    "    if len(data) > 0:\n",
    "        for i in data:\n",
    "            filename = i.split('/')[-1]\n",
    "            print(filename) \n",
    "            aws = s3fs.S3FileSystem(anon=True)\n",
    "            for x in data:\n",
    "                aws.get(x, save_path + x.split('/')[-1])\n",
    "                \n",
    "            # Open a GOES-16 image from the list using xarray\n",
    "            gs16 = netCDF4.Dataset(save_path + i.split('/')[-1], 'r')\n",
    "            store = xr.backends.NetCDF4DataStore(gs16)\n",
    "            ds = xr.open_dataset(store)\n",
    "            \n",
    "            # Get the latitude & longitude of all pixels in the GOES-16 image and add to existing xarray dataset\n",
    "            ds_latlon = proj(ds)\n",
    "            \n",
    "            # Locate the index of the pixel closest to lat/lon of SGP site\n",
    "            y, x = locate_index(ds_latlon)\n",
    "            \n",
    "            # Extract an nxn array around the site using the index of closest pixel\n",
    "            cropped_image = extract_array(ds_latlon, y, x, band)\n",
    "                \n",
    "        print('Complete!')"
   ]
  },
  {
   "cell_type": "code",
   "execution_count": 8,
   "metadata": {},
   "outputs": [
    {
     "name": "stdout",
     "output_type": "stream",
     "text": [
      "\n",
      "Data files will be saved to: C:\\Users\\margo/\n",
      "OR_ABI-L1b-RadC-M6C01_G16_s20193251731159_e20193251733532_c20193251734017.nc\n",
      "OR_ABI-L1b-RadC-M6C01_G16_s20193251736159_e20193251738532_c20193251739023.nc\n",
      "OR_ABI-L1b-RadC-M6C01_G16_s20193251741159_e20193251743532_c20193251744024.nc\n",
      "Complete!\n"
     ]
    },
    {
     "data": {
      "image/png": "[encoded data removed]",
      "text/plain": [
       "<Figure size 432x288 with 1 Axes>"
      ]
     },
     "metadata": {
      "needs_background": "light"
     },
     "output_type": "display_data"
    }
   ],
   "source": [
    "if __name__ == \"__main__\":\n",
    "    main()"
   ]
  },
  {
   "cell_type": "code",
   "execution_count": null,
   "metadata": {},
   "outputs": [],
   "source": []
  }
 ],
 "metadata": {
  "kernelspec": {
   "display_name": "Python 3",
   "language": "python",
   "name": "python3"
  },
  "language_info": {
   "codemirror_mode": {
    "name": "ipython",
    "version": 3
   },
   "file_extension": ".py",
   "mimetype": "text/x-python",
   "name": "python",
   "nbconvert_exporter": "python",
   "pygments_lexer": "ipython3",
   "version": "3.8.5"
  },
  "varInspector": {
   "cols": {
    "lenName": 16,
    "lenType": 16,
    "lenVar": 40
   },
   "kernels_config": {
    "python": {
     "delete_cmd_postfix": "",
     "delete_cmd_prefix": "del ",
     "library": "var_list.py",
     "varRefreshCmd": "print(var_dic_list())"
    },
    "r": {
     "delete_cmd_postfix": ") ",
     "delete_cmd_prefix": "rm(",
     "library": "var_list.r",
     "varRefreshCmd": "cat(var_dic_list()) "
    }
   },
   "types_to_exclude": [
    "module",
    "function",
    "builtin_function_or_method",
    "instance",
    "_Feature"
   ],
   "window_display": false
  }
 },
 "nbformat": 4,
 "nbformat_minor": 2
}
